{
 "cells": [
  {
   "cell_type": "code",
   "execution_count": 2,
   "metadata": {},
   "outputs": [
    {
     "name": "stdout",
     "output_type": "stream",
     "text": [
      "[1]\n"
     ]
    }
   ],
   "source": [
    "import pandas as pd\n",
    "import joblib\n",
    "\n",
    "mock_data = [{\n",
    "    \"Age\": 68,\n",
    "    \"Sex\": \"M\",\n",
    "    \"ChestPainType\": \"ASY\",\n",
    "    \"RestingBP\": 144,\n",
    "    \"Cholesterol\": 193,\n",
    "    \"FastingBS\": 1,\n",
    "    \"RestingECG\": \"Normal\",\n",
    "    \"MaxHR\": 141,\n",
    "    \"ExerciseAngina\": \"N\",\n",
    "    \"Oldpeak\": 3.4,\n",
    "    \"ST_Slope\": \"Flat\"\n",
    "}]\n",
    "# Loading our models\n",
    "encoderModel = joblib.load(\"models/encoderModel.pkl\")\n",
    "KNN = joblib.load(\"models/KNN.pkl\")\n",
    "scalerModel = joblib.load(\"models/scalerModel.pkl\")\n",
    "# Converting our data into DataFrame\n",
    "mock_data_df = pd.DataFrame.from_dict(mock_data, orient=\"columns\")\n",
    "num_col = mock_data_df.describe().columns\n",
    "# encoding the categorical data into numerical data\n",
    "for c in list(encoderModel.keys()):    \n",
    "    mock_data_df[c] = encoderModel[c].transform(mock_data_df[c])\n",
    "# standardize our data\n",
    "mock_data_df_numeric = mock_data_df[num_col]\n",
    "mock_data_df_numeric_st = scalerModel.transform(mock_data_df_numeric)\n",
    "mock_data_df[num_col] = mock_data_df_numeric_st\n",
    "# predict the value\n",
    "predicted_value = KNN.predict(mock_data_df)\n",
    "\n",
    "\n",
    "print(predicted_value)\n"
   ]
  }
 ],
 "metadata": {
  "kernelspec": {
   "display_name": "DAMI",
   "language": "python",
   "name": "python3"
  },
  "language_info": {
   "codemirror_mode": {
    "name": "ipython",
    "version": 3
   },
   "file_extension": ".py",
   "mimetype": "text/x-python",
   "name": "python",
   "nbconvert_exporter": "python",
   "pygments_lexer": "ipython3",
   "version": "3.10.4 (main, Mar 31 2022, 03:37:37) [Clang 12.0.0 ]"
  },
  "orig_nbformat": 4,
  "vscode": {
   "interpreter": {
    "hash": "b46fad82085229282cb246c11c23bd40dc42f86792d5f443109bb1da1b2a3d3e"
   }
  }
 },
 "nbformat": 4,
 "nbformat_minor": 2
}
