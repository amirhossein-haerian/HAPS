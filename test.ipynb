{
 "cells": [
  {
   "cell_type": "code",
   "execution_count": 87,
   "metadata": {},
   "outputs": [
    {
     "name": "stdout",
     "output_type": "stream",
     "text": [
      "[1]\n"
     ]
    },
    {
     "name": "stderr",
     "output_type": "stream",
     "text": [
      "C:\\Users\\Setareh\\AppData\\Local\\Packages\\PythonSoftwareFoundation.Python.3.9_qbz5n2kfra8p0\\LocalCache\\local-packages\\Python39\\site-packages\\sklearn\\base.py:329: UserWarning: Trying to unpickle estimator LabelEncoder from version 1.1.1 when using version 1.1.2. This might lead to breaking code or invalid results. Use at your own risk. For more info please refer to:\n",
      "https://scikit-learn.org/stable/model_persistence.html#security-maintainability-limitations\n",
      "  warnings.warn(\n",
      "C:\\Users\\Setareh\\AppData\\Local\\Packages\\PythonSoftwareFoundation.Python.3.9_qbz5n2kfra8p0\\LocalCache\\local-packages\\Python39\\site-packages\\sklearn\\base.py:329: UserWarning: Trying to unpickle estimator KNeighborsClassifier from version 1.1.1 when using version 1.1.2. This might lead to breaking code or invalid results. Use at your own risk. For more info please refer to:\n",
      "https://scikit-learn.org/stable/model_persistence.html#security-maintainability-limitations\n",
      "  warnings.warn(\n",
      "C:\\Users\\Setareh\\AppData\\Local\\Packages\\PythonSoftwareFoundation.Python.3.9_qbz5n2kfra8p0\\LocalCache\\local-packages\\Python39\\site-packages\\sklearn\\base.py:329: UserWarning: Trying to unpickle estimator StandardScaler from version 1.1.1 when using version 1.1.2. This might lead to breaking code or invalid results. Use at your own risk. For more info please refer to:\n",
      "https://scikit-learn.org/stable/model_persistence.html#security-maintainability-limitations\n",
      "  warnings.warn(\n"
     ]
    }
   ],
   "source": [
    "import pandas as pd\n",
    "import joblib\n",
    "\n",
    "mock_data = [{\n",
    "    \"Age\": 68,\n",
    "    \"Sex\": \"M\",\n",
    "    \"ChestPainType\": \"ASY\",\n",
    "    \"RestingBP\": 144,\n",
    "    \"Cholesterol\": 193,\n",
    "    \"FastingBS\": 1,\n",
    "    \"RestingECG\": \"Normal\",\n",
    "    \"MaxHR\": 141,\n",
    "    \"ExerciseAngina\": \"N\",\n",
    "    \"Oldpeak\": 3.4,\n",
    "    \"ST_Slope\": \"Flat\"\n",
    "}]\n",
    "\n",
    "encoderModel = joblib.load(\"encoderModel.pkl\")\n",
    "KNN = joblib.load(\"KNN.pkl\")\n",
    "scalerModel = joblib.load(\"scalerModel.pkl\")\n",
    "\n",
    "mock_data_df = pd.DataFrame.from_dict(mock_data, orient=\"columns\")\n",
    "\n",
    "num_col = mock_data_df.describe().columns\n",
    "\n",
    "for c in list(encoderModel.keys()):    \n",
    "    mock_data_df[c] = encoderModel[c].transform(mock_data_df[c])\n",
    "\n",
    "mock_data_df_numeric = mock_data_df[num_col]\n",
    "\n",
    "mock_data_df_numeric_st = scalerModel.transform(mock_data_df_numeric)\n",
    "\n",
    "mock_data_df[num_col] = mock_data_df_numeric_st\n",
    "\n",
    "predicted_value = KNN.predict(mock_data_df)\n",
    "\n",
    "\n",
    "print(predicted_value)\n"
   ]
  }
 ],
 "metadata": {
  "kernelspec": {
   "display_name": "Python 3.9.13 64-bit (microsoft store)",
   "language": "python",
   "name": "python3"
  },
  "language_info": {
   "codemirror_mode": {
    "name": "ipython",
    "version": 3
   },
   "file_extension": ".py",
   "mimetype": "text/x-python",
   "name": "python",
   "nbconvert_exporter": "python",
   "pygments_lexer": "ipython3",
   "version": "3.9.13"
  },
  "orig_nbformat": 4,
  "vscode": {
   "interpreter": {
    "hash": "2b2236216d840f388d774694dbcb6072e0a7295b3d2c0a693c3dd771fd39773f"
   }
  }
 },
 "nbformat": 4,
 "nbformat_minor": 2
}
